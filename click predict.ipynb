{
 "cells": [
  {
   "cell_type": "code",
   "execution_count": 30,
   "metadata": {},
   "outputs": [],
   "source": [
    "import xgboost as xgb\n",
    "import pandas as pd\n",
    "import numpy as np\n",
    "from sklearn import model_selection\n",
    "from mlxtend.regressor import StackingCVRegressor\n",
    "from sklearn.linear_model import LogisticRegression\n",
    "from sklearn.svm import SVR\n",
    "from sklearn.linear_model import Lasso\n",
    "from sklearn.ensemble import RandomForestRegressor\n",
    "from sklearn.neural_network import MLPRegressor\n",
    "from sklearn.ensemble import GradientBoostingRegressor"
   ]
  },
  {
   "cell_type": "code",
   "execution_count": null,
   "metadata": {
    "collapsed": true
   },
   "outputs": [],
   "source": [
    "test=pd.read_csv(\"test.csv\", nrows=5000)"
   ]
  },
  {
   "cell_type": "code",
   "execution_count": 2,
   "metadata": {
    "collapsed": true
   },
   "outputs": [],
   "source": [
    "train=pd.read_csv(\"train.csv\", nrows=30000)"
   ]
  },
  {
   "cell_type": "code",
   "execution_count": 3,
   "metadata": {
    "collapsed": true
   },
   "outputs": [],
   "source": [
    "from sklearn.preprocessing import LabelEncoder\n",
    "number = LabelEncoder()"
   ]
  },
  {
   "cell_type": "code",
   "execution_count": 25,
   "metadata": {
    "scrolled": true
   },
   "outputs": [
    {
     "data": {
      "text/html": [
       "<div>\n",
       "<style>\n",
       "    .dataframe thead tr:only-child th {\n",
       "        text-align: right;\n",
       "    }\n",
       "\n",
       "    .dataframe thead th {\n",
       "        text-align: left;\n",
       "    }\n",
       "\n",
       "    .dataframe tbody tr th {\n",
       "        vertical-align: top;\n",
       "    }\n",
       "</style>\n",
       "<table border=\"1\" class=\"dataframe\">\n",
       "  <thead>\n",
       "    <tr style=\"text-align: right;\">\n",
       "      <th></th>\n",
       "      <th>Country</th>\n",
       "      <th>Carrier</th>\n",
       "      <th>RefererUrl</th>\n",
       "      <th>publisherId</th>\n",
       "      <th>subPublisherId</th>\n",
       "      <th>advertiserCampaignId</th>\n",
       "      <th>OS_Android</th>\n",
       "      <th>OS_Desktop</th>\n",
       "      <th>OS_Mac OS X</th>\n",
       "      <th>OS_RIM OS</th>\n",
       "      <th>OS_Symbian OS</th>\n",
       "      <th>OS_Tizen</th>\n",
       "      <th>OS_Windows Phone OS</th>\n",
       "      <th>OS_iOS</th>\n",
       "      <th>TrafficType_A</th>\n",
       "      <th>TrafficType_M</th>\n",
       "    </tr>\n",
       "  </thead>\n",
       "  <tbody>\n",
       "    <tr>\n",
       "      <th>0</th>\n",
       "      <td>56</td>\n",
       "      <td>2.0</td>\n",
       "      <td>551</td>\n",
       "      <td>481</td>\n",
       "      <td>57</td>\n",
       "      <td>6555.0</td>\n",
       "      <td>1</td>\n",
       "      <td>0</td>\n",
       "      <td>0</td>\n",
       "      <td>0</td>\n",
       "      <td>0</td>\n",
       "      <td>0</td>\n",
       "      <td>0</td>\n",
       "      <td>0</td>\n",
       "      <td>0</td>\n",
       "      <td>1</td>\n",
       "    </tr>\n",
       "    <tr>\n",
       "      <th>1</th>\n",
       "      <td>115</td>\n",
       "      <td>27.0</td>\n",
       "      <td>551</td>\n",
       "      <td>467</td>\n",
       "      <td>57</td>\n",
       "      <td>7510.0</td>\n",
       "      <td>1</td>\n",
       "      <td>0</td>\n",
       "      <td>0</td>\n",
       "      <td>0</td>\n",
       "      <td>0</td>\n",
       "      <td>0</td>\n",
       "      <td>0</td>\n",
       "      <td>0</td>\n",
       "      <td>1</td>\n",
       "      <td>0</td>\n",
       "    </tr>\n",
       "    <tr>\n",
       "      <th>2</th>\n",
       "      <td>56</td>\n",
       "      <td>4.0</td>\n",
       "      <td>551</td>\n",
       "      <td>259</td>\n",
       "      <td>57</td>\n",
       "      <td>12696.0</td>\n",
       "      <td>1</td>\n",
       "      <td>0</td>\n",
       "      <td>0</td>\n",
       "      <td>0</td>\n",
       "      <td>0</td>\n",
       "      <td>0</td>\n",
       "      <td>0</td>\n",
       "      <td>0</td>\n",
       "      <td>0</td>\n",
       "      <td>1</td>\n",
       "    </tr>\n",
       "    <tr>\n",
       "      <th>3</th>\n",
       "      <td>95</td>\n",
       "      <td>-1.0</td>\n",
       "      <td>551</td>\n",
       "      <td>202</td>\n",
       "      <td>57</td>\n",
       "      <td>735.0</td>\n",
       "      <td>1</td>\n",
       "      <td>0</td>\n",
       "      <td>0</td>\n",
       "      <td>0</td>\n",
       "      <td>0</td>\n",
       "      <td>0</td>\n",
       "      <td>0</td>\n",
       "      <td>0</td>\n",
       "      <td>1</td>\n",
       "      <td>0</td>\n",
       "    </tr>\n",
       "    <tr>\n",
       "      <th>4</th>\n",
       "      <td>84</td>\n",
       "      <td>-1.0</td>\n",
       "      <td>551</td>\n",
       "      <td>109</td>\n",
       "      <td>57</td>\n",
       "      <td>7802.0</td>\n",
       "      <td>1</td>\n",
       "      <td>0</td>\n",
       "      <td>0</td>\n",
       "      <td>0</td>\n",
       "      <td>0</td>\n",
       "      <td>0</td>\n",
       "      <td>0</td>\n",
       "      <td>0</td>\n",
       "      <td>0</td>\n",
       "      <td>0</td>\n",
       "    </tr>\n",
       "  </tbody>\n",
       "</table>\n",
       "</div>"
      ],
      "text/plain": [
       "   Country  Carrier  RefererUrl  publisherId  subPublisherId  \\\n",
       "0       56      2.0         551          481              57   \n",
       "1      115     27.0         551          467              57   \n",
       "2       56      4.0         551          259              57   \n",
       "3       95     -1.0         551          202              57   \n",
       "4       84     -1.0         551          109              57   \n",
       "\n",
       "   advertiserCampaignId  OS_Android  OS_Desktop  OS_Mac OS X  OS_RIM OS  \\\n",
       "0                6555.0           1           0            0          0   \n",
       "1                7510.0           1           0            0          0   \n",
       "2               12696.0           1           0            0          0   \n",
       "3                 735.0           1           0            0          0   \n",
       "4                7802.0           1           0            0          0   \n",
       "\n",
       "   OS_Symbian OS  OS_Tizen  OS_Windows Phone OS  OS_iOS  TrafficType_A  \\\n",
       "0              0         0                    0       0              0   \n",
       "1              0         0                    0       0              1   \n",
       "2              0         0                    0       0              0   \n",
       "3              0         0                    0       0              1   \n",
       "4              0         0                    0       0              0   \n",
       "\n",
       "   TrafficType_M  \n",
       "0              1  \n",
       "1              0  \n",
       "2              1  \n",
       "3              0  \n",
       "4              0  "
      ]
     },
     "execution_count": 25,
     "metadata": {},
     "output_type": "execute_result"
    }
   ],
   "source": [
    "train1.head()"
   ]
  },
  {
   "cell_type": "code",
   "execution_count": null,
   "metadata": {
    "collapsed": true
   },
   "outputs": [],
   "source": [
    "train1.OS.value_counts()"
   ]
  },
  {
   "cell_type": "code",
   "execution_count": 4,
   "metadata": {
    "collapsed": true
   },
   "outputs": [],
   "source": [
    "train1 = train.drop(['ConversionDate','ConversionPayOut','ConversionStatus','ID', 'Browser', 'Device', 'ClickDate','UserIp','Fraud'], axis=1)"
   ]
  },
  {
   "cell_type": "code",
   "execution_count": 5,
   "metadata": {
    "collapsed": true
   },
   "outputs": [],
   "source": [
    "train1 = pd.get_dummies(data=train1, columns=['OS','TrafficType'])\n",
    "train1['RefererUrl'] = number.fit_transform(train['RefererUrl'].astype('str'))\n",
    "train1['Country'] = number.fit_transform(train['Country'].astype('str'))\n",
    "train1['subPublisherId'] = number.fit_transform(train['subPublisherId'].astype('str'))\n",
    "train1['publisherId'] = number.fit_transform(train['publisherId'].astype('str'))\n",
    "x = train1.values"
   ]
  },
  {
   "cell_type": "code",
   "execution_count": 6,
   "metadata": {},
   "outputs": [
    {
     "data": {
      "text/plain": [
       "array([[  8.90000000e+01,  -1.00000000e+00,   5.51000000e+02,\n",
       "          4.39000000e+02,   5.70000000e+01,   3.31200000e+03,\n",
       "          1.00000000e+00,   0.00000000e+00,   0.00000000e+00,\n",
       "          0.00000000e+00,   0.00000000e+00,   0.00000000e+00,\n",
       "          0.00000000e+00,   0.00000000e+00,   1.00000000e+00,\n",
       "          0.00000000e+00]])"
      ]
     },
     "execution_count": 6,
     "metadata": {},
     "output_type": "execute_result"
    }
   ],
   "source": [
    "x[[4567]]"
   ]
  },
  {
   "cell_type": "code",
   "execution_count": 26,
   "metadata": {},
   "outputs": [
    {
     "data": {
      "text/plain": [
       "Country                   int64\n",
       "Carrier                 float64\n",
       "RefererUrl                int64\n",
       "publisherId               int64\n",
       "subPublisherId            int64\n",
       "advertiserCampaignId    float64\n",
       "OS_Android                uint8\n",
       "OS_Desktop                uint8\n",
       "OS_Mac OS X               uint8\n",
       "OS_RIM OS                 uint8\n",
       "OS_Symbian OS             uint8\n",
       "OS_Tizen                  uint8\n",
       "OS_Windows Phone OS       uint8\n",
       "OS_iOS                    uint8\n",
       "TrafficType_A             uint8\n",
       "TrafficType_M             uint8\n",
       "dtype: object"
      ]
     },
     "execution_count": 26,
     "metadata": {},
     "output_type": "execute_result"
    }
   ],
   "source": [
    "train1.dtypes"
   ]
  },
  {
   "cell_type": "code",
   "execution_count": 6,
   "metadata": {
    "collapsed": true
   },
   "outputs": [],
   "source": [
    "y=train['ConversionPayOut'].ravel()"
   ]
  },
  {
   "cell_type": "code",
   "execution_count": null,
   "metadata": {
    "collapsed": true
   },
   "outputs": [],
   "source": [
    "t1 = test.drop('ID', axis=1)\n",
    "t1 = pd.get_dummies(t1)\n",
    "testA = t1.values"
   ]
  },
  {
   "cell_type": "code",
   "execution_count": 31,
   "metadata": {
    "collapsed": true
   },
   "outputs": [],
   "source": [
    "xgb = xgb.XGBRegressor(max_depth=2, learning_rate=0.01, n_estimators=500, silent=True, objective='reg:linear',\n",
    "                      min_child_weight=1, subsample=0.5, colsample_bytree=0.5, gamma = 4, \n",
    "                      scale_pos_weight=0.5, \n",
    "                      seed=1000, missing=None, )"
   ]
  },
  {
   "cell_type": "code",
   "execution_count": 52,
   "metadata": {},
   "outputs": [],
   "source": [
    "rf = RandomForestRegressor(n_estimators=5)\n",
    "svr = SVR(kernel='linear')\n",
    "lasso = Lasso(alpha=2.0, fit_intercept=True, normalize=True,max_iter=5000)\n",
    "mlp = MLPRegressor(hidden_layer_sizes=(17,15,10), activation='relu',alpha=0.0001,  \n",
    "                   max_iter=500, shuffle=True, random_state=100)\n",
    "gb = GradientBoostingRegressor(n_estimators=500, learning_rate=0.05)\n",
    "stack = StackingCVRegressor(regressors=(gb,lasso, rf, mlp),\n",
    "                            meta_regressor=xgb)"
   ]
  },
  {
   "cell_type": "code",
   "execution_count": null,
   "metadata": {},
   "outputs": [],
   "source": [
    "st = model_selection.cross_val_score(svr, x, y, \n",
    "                                              cv=5,scoring='neg_mean_squared_error',n_jobs = -1) #Stacking model CV calculation\n",
    "st.mean()"
   ]
  },
  {
   "cell_type": "code",
   "execution_count": 42,
   "metadata": {},
   "outputs": [
    {
     "data": {
      "text/plain": [
       "-285.60096890596674"
      ]
     },
     "execution_count": 42,
     "metadata": {},
     "output_type": "execute_result"
    }
   ],
   "source": [
    "sta = model_selection.cross_val_score(stack, x, y, \n",
    "                                              cv=2,scoring='neg_mean_squared_error',n_jobs = -1) #Stacking model CV calculation\n",
    "sta.mean()"
   ]
  }
 ],
 "metadata": {
  "anaconda-cloud": {},
  "kernelspec": {
   "display_name": "Python 3",
   "language": "python",
   "name": "python3"
  },
  "language_info": {
   "codemirror_mode": {
    "name": "ipython",
    "version": 3
   },
   "file_extension": ".py",
   "mimetype": "text/x-python",
   "name": "python",
   "nbconvert_exporter": "python",
   "pygments_lexer": "ipython3",
   "version": "3.5.4"
  }
 },
 "nbformat": 4,
 "nbformat_minor": 2
}
