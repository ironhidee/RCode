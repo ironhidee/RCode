{
 "cells": [
  {
   "cell_type": "code",
   "execution_count": 1,
   "metadata": {
    "scrolled": true
   },
   "outputs": [
    {
     "name": "stderr",
     "output_type": "stream",
     "text": [
      "C:\\Users\\Rohit\\Anaconda3\\envs\\iim\\lib\\site-packages\\sklearn\\cross_validation.py:41: DeprecationWarning: This module was deprecated in version 0.18 in favor of the model_selection module into which all the refactored classes and functions are moved. Also note that the interface of the new CV iterators are different from that of this module. This module will be removed in 0.20.\n",
      "  \"This module will be removed in 0.20.\", DeprecationWarning)\n"
     ]
    }
   ],
   "source": [
    "import xgboost as xgb\n",
    "import pandas as pd\n",
    "from sklearn import model_selection\n",
    "from sklearn.ensemble import AdaBoostClassifier\n",
    "from sklearn.ensemble import RandomForestClassifier\n",
    "from mlxtend.classifier import StackingCVClassifier\n",
    "from sklearn.ensemble import GradientBoostingClassifier\n",
    "import numpy as np\n",
    "from sklearn.linear_model import LogisticRegression\n",
    "from sklearn.ensemble import ExtraTreesClassifier\n",
    "from sklearn.neighbors import KNeighborsClassifier\n",
    "from sklearn.neural_network import MLPClassifier"
   ]
  },
  {
   "cell_type": "code",
   "execution_count": 2,
   "metadata": {
    "collapsed": true
   },
   "outputs": [],
   "source": [
    "from sklearn.preprocessing import LabelEncoder\n",
    "number = LabelEncoder()"
   ]
  },
  {
   "cell_type": "code",
   "execution_count": 3,
   "metadata": {},
   "outputs": [],
   "source": [
    "clf1 = LogisticRegression()\n",
    "clf2 = RandomForestClassifier(n_estimators=2000)\n",
    "clf3 = GradientBoostingClassifier(learning_rate=0.1, loss='deviance', max_depth=5,n_estimators=2000,subsample=.5)\n",
    "clf4 = AdaBoostClassifier(n_estimators=1500,learning_rate=0.5)\n",
    "clf5 = ExtraTreesClassifier(n_estimators =1500,max_depth=10,n_jobs=-1)\n",
    "clf6 = KNeighborsClassifier(n_neighbors=8,weights='distance',n_jobs=-1)\n",
    "clf7 = MLPClassifier(hidden_layer_sizes=(400,3),max_iter=1000)\n",
    "clf8 = KNeighborsClassifier(n_neighbors=2,weights='distance',n_jobs=-1)\n",
    "clf9 = KNeighborsClassifier(n_neighbors=4,weights='distance',n_jobs=-1)\n",
    "clf10 = KNeighborsClassifier(n_neighbors=8,weights='distance',n_jobs=-1)\n",
    "clf11 = KNeighborsClassifier(n_neighbors=16,weights='distance',n_jobs=-1)\n",
    "clf12 = KNeighborsClassifier(n_neighbors=32,weights='distance',n_jobs=-1)\n",
    "clf13 = KNeighborsClassifier(n_neighbors=64,weights='distance',n_jobs=-1)\n",
    "clf14 = KNeighborsClassifier(n_neighbors=128,weights='distance',n_jobs=-1)"
   ]
  },
  {
   "cell_type": "code",
   "execution_count": 4,
   "metadata": {},
   "outputs": [],
   "source": [
    "gb = xgb.XGBClassifier(learning_rate =0.08, n_estimators=1000, \n",
    "                       max_depth=15, min_child_weight=1,\n",
    "                       gamma=2,subsample=0.4,\n",
    "                       colsample_bytree=0.55,objective= 'multi:softprob',\n",
    "                       nthread=4,scale_pos_weight=1,seed=27)\n",
    "\n",
    "sclf = StackingCVClassifier(classifiers=[clf2, clf3, clf4, clf5, clf6, clf7, clf8, clf9,clf10, clf11, clf12, clf13, clf14,gb],\n",
    "                            meta_classifier=gb)\n",
    "sclf1 = StackingCVClassifier(classifiers=[clf2, clf3, clf4, clf5, clf6, clf7, clf8, clf9,clf10, clf11, clf12, clf13, clf14, gb],\n",
    "                            meta_classifier=clf7)\n",
    "sclf2 = StackingCVClassifier(classifiers=[clf2, clf3, clf4, clf5, clf6, clf7, clf8, clf9,clf10, clf11, clf12, clf13, clf14, gb],\n",
    "                            meta_classifier=clf5)"
   ]
  },
  {
   "cell_type": "code",
   "execution_count": 5,
   "metadata": {
    "collapsed": true
   },
   "outputs": [],
   "source": [
    "from mlxtend.classifier import EnsembleVoteClassifier\n",
    "eclf = EnsembleVoteClassifier(clfs=[sclf, sclf1, sclf2], weights=[1.5,.2,.1])"
   ]
  },
  {
   "cell_type": "code",
   "execution_count": null,
   "metadata": {},
   "outputs": [],
   "source": [
    "train = pd.read_csv('train.csv')\n",
    "train['card_offered'] = number.fit_transform(train['card_offered'].astype('str'))\n",
    "y = train['card_offered'].ravel()\n",
    "train = train.drop(['cust_key','score_affinity_spend','nbr_hist_elite_offer_extns','spend_retail','card_accepted','card_offered','mem_fee_24m','nbr_hist_supp_offer_extns'], axis=1)\n",
    "train = pd.get_dummies(train)\n",
    "x = train.values"
   ]
  },
  {
   "cell_type": "code",
   "execution_count": null,
   "metadata": {
    "collapsed": true
   },
   "outputs": [],
   "source": [
    "t1 =pd.read_csv('test1.csv')\n",
    "t1 = t1.drop(['cust_key','score_affinity_spend','nbr_hist_elite_offer_extns','spend_retail','mem_fee_24m','nbr_hist_supp_offer_extns'], axis=1)\n",
    "t1 = pd.get_dummies(t1)\n",
    "testA = t1.values"
   ]
  },
  {
   "cell_type": "code",
   "execution_count": null,
   "metadata": {
    "collapsed": true
   },
   "outputs": [],
   "source": [
    "t2 =pd.read_csv('test2.csv')\n",
    "t2 = t2.drop(['cust_key','score_affinity_spend','nbr_hist_elite_offer_extns','spend_retail','mem_fee_24m','nbr_hist_supp_offer_extns'], axis=1)\n",
    "t2 = pd.get_dummies(t2)\n",
    "testB = t2.values"
   ]
  },
  {
   "cell_type": "markdown",
   "metadata": {},
   "source": [
    "# Stacking CV"
   ]
  },
  {
   "cell_type": "code",
   "execution_count": null,
   "metadata": {},
   "outputs": [],
   "source": [
    "st = model_selection.cross_val_score(sclf, x, y, \n",
    "                                              cv=4, scoring='accuracy',n_jobs = -1) #Stacking model CV calculation\n",
    "st.mean()"
   ]
  },
  {
   "cell_type": "code",
   "execution_count": null,
   "metadata": {},
   "outputs": [],
   "source": [
    "st1 = model_selection.cross_val_score(sclf1, x, y, \n",
    "                                              cv=4, scoring='accuracy',n_jobs = -1) #Stacking model CV calculation\n",
    "st1.mean()"
   ]
  },
  {
   "cell_type": "code",
   "execution_count": null,
   "metadata": {},
   "outputs": [],
   "source": [
    "st2 = model_selection.cross_val_score(sclf2, x, y, \n",
    "                                              cv=2, scoring='accuracy',n_jobs = -1) #Stacking model CV calculation\n",
    "st2.mean()"
   ]
  },
  {
   "cell_type": "markdown",
   "metadata": {},
   "source": [
    "# Ensemble "
   ]
  },
  {
   "cell_type": "code",
   "execution_count": null,
   "metadata": {},
   "outputs": [],
   "source": [
    "es = model_selection.cross_val_score(eclf, x, y, \n",
    "                                              cv=2, scoring='accuracy',n_jobs = -1) #Ensemble model CV Calculation\n",
    "es.mean()"
   ]
  },
  {
   "cell_type": "markdown",
   "metadata": {},
   "source": [
    "# Fitting the model"
   ]
  },
  {
   "cell_type": "code",
   "execution_count": null,
   "metadata": {},
   "outputs": [],
   "source": [
    "model1 = eclf.fit(x,y)"
   ]
  },
  {
   "cell_type": "code",
   "execution_count": null,
   "metadata": {
    "collapsed": true
   },
   "outputs": [],
   "source": [
    "predictsA=model1.predict(testA)\n",
    "i1 = pd.DataFrame({ 'card_offered': predictsA })"
   ]
  },
  {
   "cell_type": "code",
   "execution_count": null,
   "metadata": {},
   "outputs": [],
   "source": [
    "i1.card_offered.value_counts()"
   ]
  },
  {
   "cell_type": "code",
   "execution_count": null,
   "metadata": {
    "collapsed": true
   },
   "outputs": [],
   "source": [
    "predictsB=model1.predict(testB)\n",
    "i2 = pd.DataFrame({ 'card_offered': predictsB })"
   ]
  },
  {
   "cell_type": "code",
   "execution_count": null,
   "metadata": {
    "collapsed": true
   },
   "outputs": [],
   "source": [
    "i1.to_csv(\"s1.csv\", index=False)"
   ]
  },
  {
   "cell_type": "code",
   "execution_count": null,
   "metadata": {
    "collapsed": true
   },
   "outputs": [],
   "source": [
    "i2.to_csv(\"s2.csv\", index=False) #2- Supp 1-Elite 0-Credit"
   ]
  },
  {
   "cell_type": "markdown",
   "metadata": {},
   "source": [
    "# Second GO"
   ]
  },
  {
   "cell_type": "code",
   "execution_count": 6,
   "metadata": {
    "collapsed": true
   },
   "outputs": [],
   "source": [
    "i1 = pd.read_csv(\"s1.csv\")"
   ]
  },
  {
   "cell_type": "code",
   "execution_count": 7,
   "metadata": {
    "collapsed": true
   },
   "outputs": [],
   "source": [
    "i2 = pd.read_csv(\"s2.csv\")"
   ]
  },
  {
   "cell_type": "code",
   "execution_count": 8,
   "metadata": {},
   "outputs": [],
   "source": [
    "t11 = pd.read_csv(\"test1.csv\")\n",
    "t11 = pd.concat([t11, i1], axis=1)\n",
    "t11 = t11.drop(['cust_key','score_affinity_spend','nbr_hist_elite_offer_extns','spend_retail','mem_fee_24m','nbr_hist_supp_offer_extns'], axis=1)\n",
    "t11 = pd.get_dummies(t11)\n",
    "testA1 = t11.values"
   ]
  },
  {
   "cell_type": "code",
   "execution_count": 9,
   "metadata": {},
   "outputs": [],
   "source": [
    "t12 = pd.read_csv(\"test2.csv\")\n",
    "t12 = pd.concat([t12, i2], axis=1)\n",
    "t12 = t12.drop(['cust_key','score_affinity_spend','nbr_hist_elite_offer_extns','spend_retail','mem_fee_24m','nbr_hist_supp_offer_extns'], axis=1)\n",
    "t12 = pd.get_dummies(t12)\n",
    "testB1 = t12.values"
   ]
  },
  {
   "cell_type": "code",
   "execution_count": 10,
   "metadata": {},
   "outputs": [],
   "source": [
    "train1 = pd.read_csv(\"train.csv\")\n",
    "train1['card_accepted'] = number.fit_transform(train1['card_accepted'].astype('str'))\n",
    "yr = train1['card_accepted'].ravel()\n",
    "train1 = train1.drop(['cust_key','score_affinity_spend','nbr_hist_elite_offer_extns','spend_retail','mem_fee_24m','nbr_hist_supp_offer_extns','card_accepted'], axis=1)\n",
    "train1 = pd.get_dummies(train1)\n",
    "trainfinal = train1.values  "
   ]
  },
  {
   "cell_type": "markdown",
   "metadata": {},
   "source": [
    "# Fitting the model"
   ]
  },
  {
   "cell_type": "code",
   "execution_count": null,
   "metadata": {
    "collapsed": true
   },
   "outputs": [],
   "source": [
    "model2 = sclf.fit(trainfinal,yr)"
   ]
  },
  {
   "cell_type": "code",
   "execution_count": null,
   "metadata": {},
   "outputs": [],
   "source": [
    "predictsA1 = model2.predict(testA1)\n",
    "p1 = pd.DataFrame({ 'card_offered': predictsA1 })\n",
    "p1.to_csv(\"sub1.csv\", index=False)\n",
    "p1.card_offered.value_counts()"
   ]
  },
  {
   "cell_type": "code",
   "execution_count": null,
   "metadata": {
    "collapsed": true
   },
   "outputs": [],
   "source": [
    "predictsB1 = model2.predict(testB1)\n",
    "p2 = pd.DataFrame({ 'card_offered': predictsB1 })\n",
    "p2.to_csv(\"sub2.csv\", index=False)  #2-None 1-Elite 3-Supp 0-Credit"
   ]
  }
 ],
 "metadata": {
  "anaconda-cloud": {},
  "kernelspec": {
   "display_name": "Python 3",
   "language": "python",
   "name": "python3"
  },
  "language_info": {
   "codemirror_mode": {
    "name": "ipython",
    "version": 3
   },
   "file_extension": ".py",
   "mimetype": "text/x-python",
   "name": "python",
   "nbconvert_exporter": "python",
   "pygments_lexer": "ipython3",
   "version": "3.5.4"
  }
 },
 "nbformat": 4,
 "nbformat_minor": 2
}
