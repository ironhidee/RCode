{
 "cells": [
  {
   "cell_type": "code",
   "execution_count": null,
   "metadata": {
    "collapsed": true
   },
   "outputs": [],
   "source": [
    "import xgboost as xgb\n",
    "import pandas as pd\n",
    "from sklearn import model_selection\n",
    "import numpy as np"
   ]
  },
  {
   "cell_type": "code",
   "execution_count": null,
   "metadata": {
    "collapsed": true
   },
   "outputs": [],
   "source": [
    "from sklearn.preprocessing import LabelEncoder\n",
    "number = LabelEncoder()"
   ]
  },
  {
   "cell_type": "code",
   "execution_count": null,
   "metadata": {
    "collapsed": true
   },
   "outputs": [],
   "source": [
    "gb = xgb.XGBClassifier(learning_rate =0.0001, n_estimators=300, \n",
    "                       max_depth=50, min_child_weight=1,\n",
    "                       gamma=2,subsample=0.4,\n",
    "                       colsample_bytree=1,objective= 'multi:softmax',\n",
    "                       nthread=-1,scale_pos_weight=1,seed=27)"
   ]
  },
  {
   "cell_type": "code",
   "execution_count": null,
   "metadata": {
    "collapsed": true
   },
   "outputs": [],
   "source": [
    "train=pd.io.parsers.read_csv(\"train_submissions.csv\")\n",
    "test = pd.io.parsers.read_csv(\"test_submissions.csv\")"
   ]
  },
  {
   "cell_type": "code",
   "execution_count": null,
   "metadata": {
    "collapsed": true
   },
   "outputs": [],
   "source": [
    "user = pd.io.parsers.read_csv(\"user_data.csv\")\n",
    "user1 = user.drop(['submission_count','problem_solved','contribution','country','follower_count','last_online_time_seconds','max_rating','rating','rank','registration_time_seconds'], axis=1)\n",
    "user1['user_id'] = number.fit_transform(user1['user_id'].astype('str'))\n",
    "x1 = user1.values\n",
    "\n",
    "user2 = user.drop(['user_id','submission_count','problem_solved','contribution','country','follower_count','last_online_time_seconds','max_rating','rating','registration_time_seconds'], axis=1)\n",
    "user2['rank'] = number.fit_transform(user2['rank'].astype('str'))\n",
    "y1 = user2['rank'].ravel()"
   ]
  },
  {
   "cell_type": "code",
   "execution_count": null,
   "metadata": {
    "collapsed": true
   },
   "outputs": [],
   "source": [
    "problem = pd.io.parsers.read_csv(\"problem_data.csv\")\n",
    "problem1 = problem.drop(['level_type','points','tags'], axis=1)\n",
    "problem1['problem_id'] = number.fit_transform(problem1['problem_id'].astype('str'))\n",
    "x2 = problem1.values\n",
    "\n",
    "problem2 = problem.drop(['problem_id','points','tags'], axis=1)\n",
    "problem2['level_type'] = number.fit_transform(problem2['level_type'].astype('str'))\n",
    "y2 = problem2['level_type'].ravel()"
   ]
  },
  {
   "cell_type": "code",
   "execution_count": null,
   "metadata": {
    "collapsed": true
   },
   "outputs": [],
   "source": [
    "test1 = test.drop('ID', axis=1)\n",
    "test1['user_id'] = number.fit_transform(test1['user_id'].astype('str'))\n",
    "test11 = test1['user_id']\n",
    "test11 = pd.DataFrame({ 'user_id': test11 })\n",
    "test1['problem_id'] = number.fit_transform(test1['problem_id'].astype('str'))\n",
    "test12 = test1['problem_id']\n",
    "test12 = pd.DataFrame({ 'problem_id': test12 })"
   ]
  },
  {
   "cell_type": "code",
   "execution_count": null,
   "metadata": {
    "collapsed": true
   },
   "outputs": [],
   "source": [
    "modelu = gb.fit(x1,y1)"
   ]
  },
  {
   "cell_type": "code",
   "execution_count": null,
   "metadata": {
    "collapsed": true
   },
   "outputs": [],
   "source": [
    "modelp = gb.fit(x2,y2)"
   ]
  },
  {
   "cell_type": "code",
   "execution_count": null,
   "metadata": {
    "collapsed": true
   },
   "outputs": [],
   "source": [
    "tu = user1.values\n",
    "tp = problem1.values\n",
    "teu = test11.values\n",
    "tep = test12.values"
   ]
  },
  {
   "cell_type": "code",
   "execution_count": null,
   "metadata": {
    "collapsed": true
   },
   "outputs": [],
   "source": [
    "predictu = modelu.predict(tu)\n",
    "predictp = modelp.predict(tp)\n",
    "predicteu = modelu.predict(teu)\n",
    "predictep = modelu.predict(tep)"
   ]
  },
  {
   "cell_type": "code",
   "execution_count": null,
   "metadata": {
    "collapsed": true
   },
   "outputs": [],
   "source": [
    "iu = pd.DataFrame({ 'rank': predictu })\n",
    "ip = pd.DataFrame({ 'level_type': predictp })\n",
    "train1 = pd.concat([train,iu,ip], axis=1)\n",
    "train1 = train1.drop('attempts_range', axis=1)\n",
    "train1['user_id'] = number.fit_transform(train1['user_id'].astype('str'))\n",
    "train1['problem_id'] = number.fit_transform(train1['problem_id'].astype('str'))\n",
    "train1 = pd.get_dummies(data=train1, columns=['rank','level_type'])\n",
    "x=train1.values"
   ]
  },
  {
   "cell_type": "code",
   "execution_count": null,
   "metadata": {
    "collapsed": true
   },
   "outputs": [],
   "source": [
    "y=train['attempts_range'].ravel()"
   ]
  },
  {
   "cell_type": "code",
   "execution_count": null,
   "metadata": {
    "collapsed": true
   },
   "outputs": [],
   "source": [
    "ieu = pd.DataFrame({ 'rank': predicteu })\n",
    "iep = pd.DataFrame({ 'level_type': predictep })\n",
    "test1 = pd.concat([test,ieu,iep], axis=1)\n",
    "test1 = test1.drop('ID', axis=1)\n",
    "test1['user_id'] = number.fit_transform(test1['user_id'].astype('str'))\n",
    "test1['problem_id'] = number.fit_transform(test1['problem_id'].astype('str'))\n",
    "test1 = pd.get_dummies(data=test1, columns=['rank','level_type'])\n",
    "t1=test1.values"
   ]
  },
  {
   "cell_type": "code",
   "execution_count": null,
   "metadata": {
    "collapsed": true,
    "scrolled": true
   },
   "outputs": [],
   "source": [
    "st = model_selection.cross_val_score(gb, x, y, \n",
    "                                              cv=3, scoring='accuracy',n_jobs = -1)\n",
    "st.mean()"
   ]
  },
  {
   "cell_type": "code",
   "execution_count": null,
   "metadata": {
    "collapsed": true
   },
   "outputs": [],
   "source": [
    "model = gb.fit(x,y)"
   ]
  },
  {
   "cell_type": "code",
   "execution_count": null,
   "metadata": {
    "collapsed": true
   },
   "outputs": [],
   "source": [
    "predicts = model.predict(t1)"
   ]
  },
  {
   "cell_type": "code",
   "execution_count": null,
   "metadata": {
    "collapsed": true
   },
   "outputs": [],
   "source": [
    "i1 = pd.DataFrame({ 'attempts_range': predicts })\n",
    "i3 = test['ID']\n",
    "i2 = pd.DataFrame({ 'ID': i3 })\n",
    "enigma = pd.concat([i2, i1], axis=1)\n",
    "enigma.head()"
   ]
  },
  {
   "cell_type": "code",
   "execution_count": null,
   "metadata": {
    "collapsed": true
   },
   "outputs": [],
   "source": [
    "enigma.to_csv(\"enigma.csv\", index=False)"
   ]
  }
 ],
 "metadata": {
  "anaconda-cloud": {},
  "kernelspec": {
   "display_name": "Python [default]",
   "language": "python",
   "name": "python3"
  },
  "language_info": {
   "codemirror_mode": {
    "name": "ipython",
    "version": 3
   },
   "file_extension": ".py",
   "mimetype": "text/x-python",
   "name": "python",
   "nbconvert_exporter": "python",
   "pygments_lexer": "ipython3",
   "version": "3.5.2"
  }
 },
 "nbformat": 4,
 "nbformat_minor": 2
}
